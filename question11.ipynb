{
 "cells": [
  {
   "cell_type": "markdown",
   "id": "55e30ada-3bad-45aa-9cc4-3957164ac419",
   "metadata": {},
   "source": [
    "# Janet Leung\n",
    "Notebook for assignment 7"
   ]
  },
  {
   "cell_type": "code",
   "execution_count": 1,
   "id": "4aa1166f-f26b-4f15-8b79-32c736597447",
   "metadata": {},
   "outputs": [],
   "source": [
    "'''\n",
    "Calculate the mean of a list of numbers\n",
    "\n",
    "Parameters\n",
    "----------\n",
    "numerical_list : list of floats or integers\n",
    "\n",
    "Returns\n",
    "-------\n",
    "mean : float\n",
    "\n",
    "Example\n",
    "-------\n",
    ">>> compute_mean([2,4,6,8])\n",
    "5.0\n",
    "\n",
    "'''\n",
    "def compute_mean(numerical_list):\n",
    "    \n",
    "    sum_of_items = 0.0\n",
    "    \n",
    "    for num in numerical_list:\n",
    "        sum_of_items += num\n",
    "\n",
    "    return sum_of_items / len(numerical_list)\n"
   ]
  },
  {
   "cell_type": "code",
   "execution_count": 2,
   "id": "a385020d-0a5a-48e1-b28b-ad6d254edd87",
   "metadata": {},
   "outputs": [
    {
     "data": {
      "text/plain": [
       "5.0"
      ]
     },
     "execution_count": 2,
     "metadata": {},
     "output_type": "execute_result"
    }
   ],
   "source": [
    "compute_mean([2,4,6,8])"
   ]
  },
  {
   "cell_type": "markdown",
   "id": "d3a190a8-70d7-49b0-9734-9bb4652af64a",
   "metadata": {},
   "source": [
    "compute_mean() computes the mean of a list of numbers by first adding all the numbers in the list, then dividing the sum by the number of items in the list. Here are the two different expressions for computing mean $(\\bar x)$:\n",
    "\n",
    "$$\\bar x =\\frac{x_{1}+x_{2}+...+x_{n}}{n} = \\frac{1}{n}\\left( \\sum_{i=1}^n x_{i} \\right)$$"
   ]
  },
  {
   "cell_type": "code",
   "execution_count": null,
   "id": "78b0bc0e-e481-4b68-a47d-d802a7d11ed9",
   "metadata": {},
   "outputs": [],
   "source": []
  }
 ],
 "metadata": {
  "kernelspec": {
   "display_name": "Python [conda env:A7-practice-env]",
   "language": "python",
   "name": "conda-env-A7-practice-env-py"
  },
  "language_info": {
   "codemirror_mode": {
    "name": "ipython",
    "version": 3
   },
   "file_extension": ".py",
   "mimetype": "text/x-python",
   "name": "python",
   "nbconvert_exporter": "python",
   "pygments_lexer": "ipython3",
   "version": "3.12.4"
  }
 },
 "nbformat": 4,
 "nbformat_minor": 5
}
